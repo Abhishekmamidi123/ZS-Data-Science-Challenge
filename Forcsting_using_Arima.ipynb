{
 "cells": [
  {
   "cell_type": "markdown",
   "metadata": {},
   "source": [
    "## Import libraries"
   ]
  },
  {
   "cell_type": "code",
   "execution_count": 378,
   "metadata": {},
   "outputs": [],
   "source": [
    "import numpy as np\n",
    "import pandas as pd\n",
    "import statsmodels as sm\n",
    "import statsmodels.tsa.api as smt\n",
    "import statsmodels.formula.api as smf\n",
    "import itertools"
   ]
  },
  {
   "cell_type": "code",
   "execution_count": 379,
   "metadata": {},
   "outputs": [],
   "source": [
    "import statsmodels"
   ]
  },
  {
   "cell_type": "code",
   "execution_count": 380,
   "metadata": {},
   "outputs": [
    {
     "data": {
      "text/plain": [
       "'0.9.0'"
      ]
     },
     "execution_count": 380,
     "metadata": {},
     "output_type": "execute_result"
    }
   ],
   "source": [
    "statsmodels.__version__"
   ]
  },
  {
   "cell_type": "markdown",
   "metadata": {},
   "source": [
    "## Path to data files"
   ]
  },
  {
   "cell_type": "code",
   "execution_count": 381,
   "metadata": {},
   "outputs": [],
   "source": [
    "PATH = 'dataset'\n",
    "PATH_TO_train_data = PATH + '/' + 'yds_train2018.csv'\n",
    "PATH_TO_test_data = PATH + '/' + 'yds_test2018.csv'\n",
    "PATH_TO_promotional_expense = PATH + '/' + 'promotional_expense.csv'\n",
    "PATH_TO_holidays = PATH + '/' + 'holidays.xlsx'"
   ]
  },
  {
   "cell_type": "code",
   "execution_count": 382,
   "metadata": {},
   "outputs": [],
   "source": [
    "train_data = pd.read_csv(PATH_TO_train_data)"
   ]
  },
  {
   "cell_type": "markdown",
   "metadata": {},
   "source": [
    "## Drop Merchant_ID and S_No as they are niot required."
   ]
  },
  {
   "cell_type": "code",
   "execution_count": 383,
   "metadata": {},
   "outputs": [],
   "source": [
    "train_data.drop(columns=['Merchant_ID', 'S_No'], inplace=True)"
   ]
  },
  {
   "cell_type": "code",
   "execution_count": 384,
   "metadata": {},
   "outputs": [],
   "source": [
    "train_data = train_data.groupby(['Year', 'Month', 'Product_ID', 'Country']).Sales.sum().reset_index()"
   ]
  },
  {
   "cell_type": "code",
   "execution_count": 385,
   "metadata": {},
   "outputs": [
    {
     "data": {
      "text/html": [
       "<div>\n",
       "<style scoped>\n",
       "    .dataframe tbody tr th:only-of-type {\n",
       "        vertical-align: middle;\n",
       "    }\n",
       "\n",
       "    .dataframe tbody tr th {\n",
       "        vertical-align: top;\n",
       "    }\n",
       "\n",
       "    .dataframe thead th {\n",
       "        text-align: right;\n",
       "    }\n",
       "</style>\n",
       "<table border=\"1\" class=\"dataframe\">\n",
       "  <thead>\n",
       "    <tr style=\"text-align: right;\">\n",
       "      <th></th>\n",
       "      <th>Year</th>\n",
       "      <th>Month</th>\n",
       "      <th>Product_ID</th>\n",
       "      <th>Country</th>\n",
       "      <th>Sales</th>\n",
       "    </tr>\n",
       "  </thead>\n",
       "  <tbody>\n",
       "    <tr>\n",
       "      <th>0</th>\n",
       "      <td>2013</td>\n",
       "      <td>1</td>\n",
       "      <td>1</td>\n",
       "      <td>Argentina</td>\n",
       "      <td>34346025.00</td>\n",
       "    </tr>\n",
       "    <tr>\n",
       "      <th>1</th>\n",
       "      <td>2013</td>\n",
       "      <td>1</td>\n",
       "      <td>1</td>\n",
       "      <td>Columbia</td>\n",
       "      <td>3947356.31</td>\n",
       "    </tr>\n",
       "    <tr>\n",
       "      <th>2</th>\n",
       "      <td>2013</td>\n",
       "      <td>1</td>\n",
       "      <td>2</td>\n",
       "      <td>Argentina</td>\n",
       "      <td>2751851.48</td>\n",
       "    </tr>\n",
       "    <tr>\n",
       "      <th>3</th>\n",
       "      <td>2013</td>\n",
       "      <td>1</td>\n",
       "      <td>2</td>\n",
       "      <td>Belgium</td>\n",
       "      <td>314850.13</td>\n",
       "    </tr>\n",
       "    <tr>\n",
       "      <th>4</th>\n",
       "      <td>2013</td>\n",
       "      <td>1</td>\n",
       "      <td>2</td>\n",
       "      <td>Columbia</td>\n",
       "      <td>2885137.06</td>\n",
       "    </tr>\n",
       "  </tbody>\n",
       "</table>\n",
       "</div>"
      ],
      "text/plain": [
       "   Year  Month  Product_ID    Country        Sales\n",
       "0  2013      1           1  Argentina  34346025.00\n",
       "1  2013      1           1   Columbia   3947356.31\n",
       "2  2013      1           2  Argentina   2751851.48\n",
       "3  2013      1           2    Belgium    314850.13\n",
       "4  2013      1           2   Columbia   2885137.06"
      ]
     },
     "execution_count": 385,
     "metadata": {},
     "output_type": "execute_result"
    }
   ],
   "source": [
    "train_data.head()"
   ]
  },
  {
   "cell_type": "markdown",
   "metadata": {},
   "source": [
    "## Find unique combinations of Country and Product_ID"
   ]
  },
  {
   "cell_type": "code",
   "execution_count": 386,
   "metadata": {},
   "outputs": [],
   "source": [
    "find_unique_country_pro = pd.DataFrame({'Country': train_data.Country, 'Product_ID': train_data.Product_ID})"
   ]
  },
  {
   "cell_type": "code",
   "execution_count": 387,
   "metadata": {},
   "outputs": [
    {
     "data": {
      "text/html": [
       "<div>\n",
       "<style scoped>\n",
       "    .dataframe tbody tr th:only-of-type {\n",
       "        vertical-align: middle;\n",
       "    }\n",
       "\n",
       "    .dataframe tbody tr th {\n",
       "        vertical-align: top;\n",
       "    }\n",
       "\n",
       "    .dataframe thead th {\n",
       "        text-align: right;\n",
       "    }\n",
       "</style>\n",
       "<table border=\"1\" class=\"dataframe\">\n",
       "  <thead>\n",
       "    <tr style=\"text-align: right;\">\n",
       "      <th></th>\n",
       "      <th>Country</th>\n",
       "      <th>Product_ID</th>\n",
       "    </tr>\n",
       "  </thead>\n",
       "  <tbody>\n",
       "    <tr>\n",
       "      <th>0</th>\n",
       "      <td>Argentina</td>\n",
       "      <td>1</td>\n",
       "    </tr>\n",
       "    <tr>\n",
       "      <th>1</th>\n",
       "      <td>Columbia</td>\n",
       "      <td>1</td>\n",
       "    </tr>\n",
       "    <tr>\n",
       "      <th>2</th>\n",
       "      <td>Argentina</td>\n",
       "      <td>2</td>\n",
       "    </tr>\n",
       "    <tr>\n",
       "      <th>3</th>\n",
       "      <td>Belgium</td>\n",
       "      <td>2</td>\n",
       "    </tr>\n",
       "    <tr>\n",
       "      <th>4</th>\n",
       "      <td>Columbia</td>\n",
       "      <td>2</td>\n",
       "    </tr>\n",
       "  </tbody>\n",
       "</table>\n",
       "</div>"
      ],
      "text/plain": [
       "     Country  Product_ID\n",
       "0  Argentina           1\n",
       "1   Columbia           1\n",
       "2  Argentina           2\n",
       "3    Belgium           2\n",
       "4   Columbia           2"
      ]
     },
     "execution_count": 387,
     "metadata": {},
     "output_type": "execute_result"
    }
   ],
   "source": [
    "find_unique_country_pro.head()"
   ]
  },
  {
   "cell_type": "code",
   "execution_count": 388,
   "metadata": {},
   "outputs": [
    {
     "data": {
      "text/html": [
       "<div>\n",
       "<style scoped>\n",
       "    .dataframe tbody tr th:only-of-type {\n",
       "        vertical-align: middle;\n",
       "    }\n",
       "\n",
       "    .dataframe tbody tr th {\n",
       "        vertical-align: top;\n",
       "    }\n",
       "\n",
       "    .dataframe thead th {\n",
       "        text-align: right;\n",
       "    }\n",
       "</style>\n",
       "<table border=\"1\" class=\"dataframe\">\n",
       "  <thead>\n",
       "    <tr style=\"text-align: right;\">\n",
       "      <th></th>\n",
       "      <th>Country</th>\n",
       "      <th>Product_ID</th>\n",
       "    </tr>\n",
       "  </thead>\n",
       "  <tbody>\n",
       "    <tr>\n",
       "      <th>0</th>\n",
       "      <td>Argentina</td>\n",
       "      <td>1</td>\n",
       "    </tr>\n",
       "    <tr>\n",
       "      <th>2</th>\n",
       "      <td>Argentina</td>\n",
       "      <td>2</td>\n",
       "    </tr>\n",
       "    <tr>\n",
       "      <th>226</th>\n",
       "      <td>Argentina</td>\n",
       "      <td>3</td>\n",
       "    </tr>\n",
       "    <tr>\n",
       "      <th>3</th>\n",
       "      <td>Belgium</td>\n",
       "      <td>2</td>\n",
       "    </tr>\n",
       "    <tr>\n",
       "      <th>1</th>\n",
       "      <td>Columbia</td>\n",
       "      <td>1</td>\n",
       "    </tr>\n",
       "    <tr>\n",
       "      <th>4</th>\n",
       "      <td>Columbia</td>\n",
       "      <td>2</td>\n",
       "    </tr>\n",
       "    <tr>\n",
       "      <th>186</th>\n",
       "      <td>Columbia</td>\n",
       "      <td>3</td>\n",
       "    </tr>\n",
       "    <tr>\n",
       "      <th>5</th>\n",
       "      <td>Denmark</td>\n",
       "      <td>2</td>\n",
       "    </tr>\n",
       "    <tr>\n",
       "      <th>6</th>\n",
       "      <td>England</td>\n",
       "      <td>4</td>\n",
       "    </tr>\n",
       "    <tr>\n",
       "      <th>8</th>\n",
       "      <td>England</td>\n",
       "      <td>5</td>\n",
       "    </tr>\n",
       "    <tr>\n",
       "      <th>7</th>\n",
       "      <td>Finland</td>\n",
       "      <td>4</td>\n",
       "    </tr>\n",
       "  </tbody>\n",
       "</table>\n",
       "</div>"
      ],
      "text/plain": [
       "       Country  Product_ID\n",
       "0    Argentina           1\n",
       "2    Argentina           2\n",
       "226  Argentina           3\n",
       "3      Belgium           2\n",
       "1     Columbia           1\n",
       "4     Columbia           2\n",
       "186   Columbia           3\n",
       "5      Denmark           2\n",
       "6      England           4\n",
       "8      England           5\n",
       "7      Finland           4"
      ]
     },
     "execution_count": 388,
     "metadata": {},
     "output_type": "execute_result"
    }
   ],
   "source": [
    "unique = find_unique_country_pro.drop_duplicates()\n",
    "unique.sort_values(['Country'])"
   ]
  },
  {
   "cell_type": "markdown",
   "metadata": {},
   "source": [
    "## Function for ARIMA model.\n",
    "### Takes country, id and series data as input.\n",
    "### It tries different values of pdq values and takes th best value out of them.\n",
    "### Using those values, it predicts the next 36 data points.\n",
    "### There are 11 different combinations. Apply sarimax on all combinations."
   ]
  },
  {
   "cell_type": "code",
   "execution_count": 389,
   "metadata": {},
   "outputs": [],
   "source": [
    "import sys\n",
    "warnings.filterwarnings(\"ignore\") # specify to ignore warning messages\n",
    "\n",
    "def sarimax(series_data, country, id):\n",
    "    # Define the p, d and q parameters to take any value between 0 and 2\n",
    "    p = d = q = range(0, 4)\n",
    "\n",
    "    # Generate all different combinations of p, d and q triplets\n",
    "    pdq = list(itertools.product(p, d, q))\n",
    "\n",
    "    # Generate all different combinations of seasonal p, q and q triplets\n",
    "    seasonal_pdq = [(x[0], x[1], x[2], 12) for x in list(itertools.product(p, d, q))]\n",
    "    \n",
    "    \n",
    "    best_aic = np.inf\n",
    "    best_pdq = None\n",
    "    best_seasonal_pdq = None\n",
    "    temp_model = None\n",
    "\n",
    "    for param in pdq:\n",
    "        for param_seasonal in seasonal_pdq:\n",
    "            try:\n",
    "                temp_model = sm.tsa.statespace.sarimax.SARIMAX(series_data, order=param, seasonal_order=param_seasonal)\n",
    "                results = temp_model.fit()\n",
    "                if results.aic < best_aic:\n",
    "                    best_aic = results.aic\n",
    "                    best_pdq = param\n",
    "                    best_seasonal_pdq = param_seasonal\n",
    "            except:\n",
    "                continue\n",
    "    best_model = sm.tsa.statespace.sarimax.SARIMAX(series_data,\n",
    "                                      order=best_pdq,\n",
    "                                      seasonal_order=best_seasonal_pdq, enforce_invertibility=False)\n",
    "    best_results = best_model.fit()\n",
    "    n_steps = 36\n",
    "    pred_uc_99 = best_results.get_forecast(steps=36, alpha=0.01)\n",
    "    df = pred_uc_99.conf_int()\n",
    "    \n",
    "    df['forcast'] = df['lower Sales'] * 0.5 + df['upper Sales'] * 0.5\n",
    "    df['Country'] = country\n",
    "    df['Product_ID'] = id\n",
    "    \n",
    "    return best_pdq, best_seasonal_pdq, df\n",
    "    print(\"Best SARIMAX{}x{}12 model - AIC:{}\".format(best_pdq, best_seasonal_pdq, best_aic))"
   ]
  },
  {
   "cell_type": "code",
   "execution_count": 390,
   "metadata": {},
   "outputs": [
    {
     "data": {
      "text/html": [
       "<div>\n",
       "<style scoped>\n",
       "    .dataframe tbody tr th:only-of-type {\n",
       "        vertical-align: middle;\n",
       "    }\n",
       "\n",
       "    .dataframe tbody tr th {\n",
       "        vertical-align: top;\n",
       "    }\n",
       "\n",
       "    .dataframe thead th {\n",
       "        text-align: right;\n",
       "    }\n",
       "</style>\n",
       "<table border=\"1\" class=\"dataframe\">\n",
       "  <thead>\n",
       "    <tr style=\"text-align: right;\">\n",
       "      <th></th>\n",
       "      <th>lower Sales</th>\n",
       "      <th>upper Sales</th>\n",
       "      <th>forcast</th>\n",
       "      <th>Country</th>\n",
       "      <th>Product_ID</th>\n",
       "    </tr>\n",
       "  </thead>\n",
       "  <tbody>\n",
       "    <tr>\n",
       "      <th>2015-11-01</th>\n",
       "      <td>-3.698110e+07</td>\n",
       "      <td>8.919514e+07</td>\n",
       "      <td>2.610702e+07</td>\n",
       "      <td>Finland</td>\n",
       "      <td>4</td>\n",
       "    </tr>\n",
       "    <tr>\n",
       "      <th>2015-12-01</th>\n",
       "      <td>-4.127920e+07</td>\n",
       "      <td>1.708689e+08</td>\n",
       "      <td>6.479484e+07</td>\n",
       "      <td>Finland</td>\n",
       "      <td>4</td>\n",
       "    </tr>\n",
       "    <tr>\n",
       "      <th>2016-01-01</th>\n",
       "      <td>-1.021148e+08</td>\n",
       "      <td>2.396559e+08</td>\n",
       "      <td>6.877055e+07</td>\n",
       "      <td>Finland</td>\n",
       "      <td>4</td>\n",
       "    </tr>\n",
       "    <tr>\n",
       "      <th>2016-02-01</th>\n",
       "      <td>-1.068720e+08</td>\n",
       "      <td>3.688945e+08</td>\n",
       "      <td>1.310112e+08</td>\n",
       "      <td>Finland</td>\n",
       "      <td>4</td>\n",
       "    </tr>\n",
       "    <tr>\n",
       "      <th>2016-03-01</th>\n",
       "      <td>-2.806585e+08</td>\n",
       "      <td>3.515241e+08</td>\n",
       "      <td>3.543283e+07</td>\n",
       "      <td>Finland</td>\n",
       "      <td>4</td>\n",
       "    </tr>\n",
       "  </tbody>\n",
       "</table>\n",
       "</div>"
      ],
      "text/plain": [
       "             lower Sales   upper Sales       forcast  Country  Product_ID\n",
       "2015-11-01 -3.698110e+07  8.919514e+07  2.610702e+07  Finland           4\n",
       "2015-12-01 -4.127920e+07  1.708689e+08  6.479484e+07  Finland           4\n",
       "2016-01-01 -1.021148e+08  2.396559e+08  6.877055e+07  Finland           4\n",
       "2016-02-01 -1.068720e+08  3.688945e+08  1.310112e+08  Finland           4\n",
       "2016-03-01 -2.806585e+08  3.515241e+08  3.543283e+07  Finland           4"
      ]
     },
     "execution_count": 390,
     "metadata": {},
     "output_type": "execute_result"
    }
   ],
   "source": [
    "df.head()"
   ]
  },
  {
   "cell_type": "code",
   "execution_count": 391,
   "metadata": {},
   "outputs": [
    {
     "data": {
      "text/plain": [
       "(36, 5)"
      ]
     },
     "execution_count": 391,
     "metadata": {},
     "output_type": "execute_result"
    }
   ],
   "source": [
    "df.shape"
   ]
  },
  {
   "cell_type": "code",
   "execution_count": null,
   "metadata": {},
   "outputs": [],
   "source": []
  },
  {
   "cell_type": "code",
   "execution_count": 392,
   "metadata": {},
   "outputs": [],
   "source": [
    "x = pd.concat([df, df]).shape"
   ]
  },
  {
   "cell_type": "code",
   "execution_count": null,
   "metadata": {},
   "outputs": [],
   "source": []
  },
  {
   "cell_type": "code",
   "execution_count": 393,
   "metadata": {},
   "outputs": [
    {
     "data": {
      "text/plain": [
       "Date\n",
       "2013-01-01    34346025.0\n",
       "2013-02-01    32005575.0\n",
       "2013-03-01    32530050.0\n",
       "2013-04-01    35588700.0\n",
       "2013-05-01    38789100.0\n",
       "Name: Sales, dtype: float64"
      ]
     },
     "execution_count": 393,
     "metadata": {},
     "output_type": "execute_result"
    }
   ],
   "source": [
    "argentina_1 = train_data.loc[train_data.Country == 'Argentina', :]\n",
    "argentina_1 = argentina_1.sort_values(['Year', 'Month']).loc[argentina_1.Product_ID == 1]\n",
    "argentina_1['Day'] = 1\n",
    "argentina_1['Date'] = pd.to_datetime(argentina_1[['Year', 'Month', 'Day']])\n",
    "argentina_1.head()\n",
    "\n",
    "sales = argentina_1.Sales\n",
    "sales.index = range(sales.count())\n",
    "date = argentina_1.Date\n",
    "date.index = range(date.count())\n",
    "argentina_1_series = pd.DataFrame({'Date': date, 'Sales': sales})\n",
    "argentina_1_series.head()\n",
    "\n",
    "argentina_1_series.set_index('Date', inplace=True)\n",
    "\n",
    "argentina_1_series = pd.Series(argentina_1_series.Sales, index=argentina_1_series.index)\n",
    "argentina_1_series.head()"
   ]
  },
  {
   "cell_type": "code",
   "execution_count": 394,
   "metadata": {},
   "outputs": [],
   "source": [
    "best_pdq, best_seasonal_pdq, df = sarimax(argentina_1_series, 'Argentina', 1)\n",
    "main_df = df"
   ]
  },
  {
   "cell_type": "code",
   "execution_count": 395,
   "metadata": {},
   "outputs": [
    {
     "data": {
      "text/plain": [
       "(36, 5)"
      ]
     },
     "execution_count": 395,
     "metadata": {},
     "output_type": "execute_result"
    }
   ],
   "source": [
    "main_df.shape"
   ]
  },
  {
   "cell_type": "code",
   "execution_count": 396,
   "metadata": {},
   "outputs": [
    {
     "data": {
      "text/plain": [
       "Date\n",
       "2013-01-01    2751851.48\n",
       "2013-02-01    2804313.12\n",
       "2013-03-01    2573004.98\n",
       "2013-04-01    3436237.42\n",
       "2013-05-01    3772468.84\n",
       "Name: Sales, dtype: float64"
      ]
     },
     "execution_count": 396,
     "metadata": {},
     "output_type": "execute_result"
    }
   ],
   "source": [
    "argentina_2 = train_data.loc[train_data.Country == 'Argentina', :]\n",
    "argentina_2 = argentina_2.sort_values(['Year', 'Month']).loc[argentina_2.Product_ID == 2]\n",
    "argentina_2['Day'] = 1\n",
    "argentina_2['Date'] = pd.to_datetime(argentina_2[['Year', 'Month', 'Day']])\n",
    "argentina_2.head()\n",
    "\n",
    "sales = argentina_2.Sales\n",
    "sales.index = range(sales.count())\n",
    "date = argentina_2.Date\n",
    "date.index = range(date.count())\n",
    "argentina_2_series = pd.DataFrame({'Date': date, 'Sales': sales})\n",
    "argentina_2_series.head()\n",
    "\n",
    "argentina_2_series.set_index('Date', inplace=True)\n",
    "\n",
    "argentina_2_series = pd.Series(argentina_2_series.Sales, index=argentina_2_series.index)\n",
    "argentina_2_series.head()"
   ]
  },
  {
   "cell_type": "code",
   "execution_count": 397,
   "metadata": {},
   "outputs": [],
   "source": [
    "best_pdq, best_seasonal_pdq, df = sarimax(argentina_2_series, 'Argentina', 2)"
   ]
  },
  {
   "cell_type": "code",
   "execution_count": 398,
   "metadata": {},
   "outputs": [],
   "source": [
    "main_df = pd.concat([main_df, df])"
   ]
  },
  {
   "cell_type": "code",
   "execution_count": 399,
   "metadata": {},
   "outputs": [
    {
     "data": {
      "text/plain": [
       "(72, 5)"
      ]
     },
     "execution_count": 399,
     "metadata": {},
     "output_type": "execute_result"
    }
   ],
   "source": [
    "main_df.shape"
   ]
  },
  {
   "cell_type": "code",
   "execution_count": 400,
   "metadata": {},
   "outputs": [
    {
     "data": {
      "text/plain": [
       "Date\n",
       "2015-01-01     126000.0\n",
       "2015-02-01    4180050.0\n",
       "2015-03-01    7437150.0\n",
       "2015-04-01    7626150.0\n",
       "2015-05-01    6189750.0\n",
       "Name: Sales, dtype: float64"
      ]
     },
     "execution_count": 400,
     "metadata": {},
     "output_type": "execute_result"
    }
   ],
   "source": [
    "argentina_3 = train_data.loc[train_data.Country == 'Argentina', :]\n",
    "argentina_3 = argentina_3.sort_values(['Year', 'Month']).loc[argentina_3.Product_ID == 3]\n",
    "argentina_3['Day'] = 1\n",
    "argentina_3['Date'] = pd.to_datetime(argentina_3[['Year', 'Month', 'Day']])\n",
    "argentina_3.head()\n",
    "\n",
    "sales = argentina_3.Sales\n",
    "sales.index = range(sales.count())\n",
    "date = argentina_3.Date\n",
    "date.index = range(date.count())\n",
    "argentina_3_series = pd.DataFrame({'Date': date, 'Sales': sales})\n",
    "argentina_3_series.head()\n",
    "\n",
    "argentina_3_series.set_index('Date', inplace=True)\n",
    "\n",
    "argentina_3_series = pd.Series(argentina_3_series.Sales, index=argentina_3_series.index)\n",
    "argentina_3_series.head()"
   ]
  },
  {
   "cell_type": "code",
   "execution_count": 401,
   "metadata": {},
   "outputs": [],
   "source": [
    "best_pdq, best_seasonal_pdq, df = sarimax(argentina_3_series, 'Argentina', 3)"
   ]
  },
  {
   "cell_type": "code",
   "execution_count": 402,
   "metadata": {},
   "outputs": [],
   "source": [
    "main_df = pd.concat([main_df, df])"
   ]
  },
  {
   "cell_type": "code",
   "execution_count": 403,
   "metadata": {},
   "outputs": [
    {
     "data": {
      "text/plain": [
       "(108, 5)"
      ]
     },
     "execution_count": 403,
     "metadata": {},
     "output_type": "execute_result"
    }
   ],
   "source": [
    "main_df.shape"
   ]
  },
  {
   "cell_type": "code",
   "execution_count": 404,
   "metadata": {},
   "outputs": [
    {
     "data": {
      "text/plain": [
       "Date\n",
       "2013-01-01    314850.13\n",
       "2013-02-01    435185.52\n",
       "2013-03-01    268694.09\n",
       "2013-04-01    461560.40\n",
       "2013-05-01    464857.26\n",
       "Name: Sales, dtype: float64"
      ]
     },
     "execution_count": 404,
     "metadata": {},
     "output_type": "execute_result"
    }
   ],
   "source": [
    "belgium_2 = train_data.loc[train_data.Country == 'Belgium', :]\n",
    "belgium_2 = belgium_2.sort_values(['Year', 'Month']).loc[belgium_2.Product_ID == 2]\n",
    "belgium_2['Day'] = 1\n",
    "belgium_2['Date'] = pd.to_datetime(belgium_2[['Year', 'Month', 'Day']])\n",
    "belgium_2.head()\n",
    "\n",
    "sales = belgium_2.Sales\n",
    "sales.index = range(sales.count())\n",
    "date = belgium_2.Date\n",
    "date.index = range(date.count())\n",
    "belgium_2_series = pd.DataFrame({'Date': date, 'Sales': sales})\n",
    "belgium_2_series.head()\n",
    "\n",
    "belgium_2_series.set_index('Date', inplace=True)\n",
    "\n",
    "belgium_2_series = pd.Series(belgium_2_series.Sales, index=belgium_2_series.index)\n",
    "belgium_2_series.head()"
   ]
  },
  {
   "cell_type": "code",
   "execution_count": 405,
   "metadata": {},
   "outputs": [],
   "source": [
    "best_pdq, best_seasonal_pdq, df = sarimax(belgium_2_series, 'Belgium', 2)"
   ]
  },
  {
   "cell_type": "code",
   "execution_count": 406,
   "metadata": {},
   "outputs": [],
   "source": [
    "main_df = pd.concat([main_df, df])"
   ]
  },
  {
   "cell_type": "code",
   "execution_count": 407,
   "metadata": {},
   "outputs": [
    {
     "data": {
      "text/plain": [
       "(144, 5)"
      ]
     },
     "execution_count": 407,
     "metadata": {},
     "output_type": "execute_result"
    }
   ],
   "source": [
    "main_df.shape"
   ]
  },
  {
   "cell_type": "code",
   "execution_count": 408,
   "metadata": {},
   "outputs": [
    {
     "data": {
      "text/plain": [
       "Date\n",
       "2013-01-01    3947356.31\n",
       "2013-02-01    4074073.20\n",
       "2013-03-01    4189422.98\n",
       "2013-04-01    4229307.08\n",
       "2013-05-01    4452229.12\n",
       "Name: Sales, dtype: float64"
      ]
     },
     "execution_count": 408,
     "metadata": {},
     "output_type": "execute_result"
    }
   ],
   "source": [
    "columbia_1 = train_data.loc[train_data.Country == 'Columbia', :]\n",
    "columbia_1 = columbia_1.sort_values(['Year', 'Month']).loc[columbia_1.Product_ID == 1]\n",
    "columbia_1['Day'] = 1\n",
    "columbia_1['Date'] = pd.to_datetime(columbia_1[['Year', 'Month', 'Day']])\n",
    "columbia_1.head()\n",
    "\n",
    "sales = columbia_1.Sales\n",
    "sales.index = range(sales.count())\n",
    "date = columbia_1.Date\n",
    "date.index = range(date.count())\n",
    "columbia_1_series = pd.DataFrame({'Date': date, 'Sales': sales})\n",
    "columbia_1_series.head()\n",
    "\n",
    "columbia_1_series.set_index('Date', inplace=True)\n",
    "\n",
    "columbia_1_series = pd.Series(columbia_1_series.Sales, index=columbia_1_series.index)\n",
    "columbia_1_series.head()"
   ]
  },
  {
   "cell_type": "code",
   "execution_count": null,
   "metadata": {},
   "outputs": [],
   "source": [
    "best_pdq, best_seasonal_pdq, df = sarimax(columbia_1_series, 'Columbia', 1)"
   ]
  },
  {
   "cell_type": "code",
   "execution_count": 249,
   "metadata": {},
   "outputs": [],
   "source": [
    "main_df = pd.concat([main_df, df])"
   ]
  },
  {
   "cell_type": "code",
   "execution_count": 250,
   "metadata": {},
   "outputs": [
    {
     "data": {
      "text/plain": [
       "(180, 5)"
      ]
     },
     "execution_count": 250,
     "metadata": {},
     "output_type": "execute_result"
    }
   ],
   "source": [
    "main_df.shape"
   ]
  },
  {
   "cell_type": "code",
   "execution_count": 251,
   "metadata": {},
   "outputs": [
    {
     "data": {
      "text/plain": [
       "Date\n",
       "2013-01-01    2885137.06\n",
       "2013-02-01    2481817.06\n",
       "2013-03-01    2821691.18\n",
       "2013-04-01    3149451.18\n",
       "2013-05-01    3389234.12\n",
       "Name: Sales, dtype: float64"
      ]
     },
     "execution_count": 251,
     "metadata": {},
     "output_type": "execute_result"
    }
   ],
   "source": [
    "columbia_2 = train_data.loc[train_data.Country == 'Columbia', :]\n",
    "columbia_2 = columbia_2.sort_values(['Year', 'Month']).loc[columbia_2.Product_ID == 2]\n",
    "columbia_2['Day'] = 1\n",
    "columbia_2['Date'] = pd.to_datetime(columbia_2[['Year', 'Month', 'Day']])\n",
    "columbia_2.head()\n",
    "\n",
    "sales = columbia_2.Sales\n",
    "sales.index = range(sales.count())\n",
    "date = columbia_2.Date\n",
    "date.index = range(date.count())\n",
    "columbia_2_series = pd.DataFrame({'Date': date, 'Sales': sales})\n",
    "columbia_2_series.head()\n",
    "\n",
    "columbia_2_series.set_index('Date', inplace=True)\n",
    "\n",
    "columbia_2_series = pd.Series(columbia_2_series.Sales, index=columbia_2_series.index)\n",
    "columbia_2_series.head()"
   ]
  },
  {
   "cell_type": "code",
   "execution_count": 252,
   "metadata": {},
   "outputs": [],
   "source": [
    "best_pdq, best_seasonal_pdq, df = sarimax(columbia_2_series, 'Columbia', 2)"
   ]
  },
  {
   "cell_type": "code",
   "execution_count": 253,
   "metadata": {},
   "outputs": [],
   "source": [
    "main_df = pd.concat([main_df, df])"
   ]
  },
  {
   "cell_type": "code",
   "execution_count": 254,
   "metadata": {},
   "outputs": [
    {
     "data": {
      "text/plain": [
       "(216, 5)"
      ]
     },
     "execution_count": 254,
     "metadata": {},
     "output_type": "execute_result"
    }
   ],
   "source": [
    "main_df.shape"
   ]
  },
  {
   "cell_type": "code",
   "execution_count": 255,
   "metadata": {},
   "outputs": [
    {
     "data": {
      "text/plain": [
       "Date\n",
       "2014-09-01     22459.60\n",
       "2014-10-01    161523.85\n",
       "2014-11-01    175611.00\n",
       "2014-12-01    151235.65\n",
       "2015-01-01    159065.70\n",
       "Name: Sales, dtype: float64"
      ]
     },
     "execution_count": 255,
     "metadata": {},
     "output_type": "execute_result"
    }
   ],
   "source": [
    "columbia_3 = train_data.loc[train_data.Country == 'Columbia', :]\n",
    "columbia_3 = columbia_3.sort_values(['Year', 'Month']).loc[columbia_3.Product_ID == 3]\n",
    "columbia_3['Day'] = 1\n",
    "columbia_3['Date'] = pd.to_datetime(columbia_3[['Year', 'Month', 'Day']])\n",
    "columbia_3.head()\n",
    "\n",
    "sales = columbia_3.Sales\n",
    "sales.index = range(sales.count())\n",
    "date = columbia_3.Date\n",
    "date.index = range(date.count())\n",
    "columbia_3_series = pd.DataFrame({'Date': date, 'Sales': sales})\n",
    "columbia_3_series.head()\n",
    "\n",
    "columbia_3_series.set_index('Date', inplace=True)\n",
    "\n",
    "columbia_3_series = pd.Series(columbia_3_series.Sales, index=columbia_3_series.index)\n",
    "columbia_3_series.head()"
   ]
  },
  {
   "cell_type": "code",
   "execution_count": 256,
   "metadata": {},
   "outputs": [],
   "source": [
    "best_pdq, best_seasonal_pdq, df = sarimax(columbia_3_series, 'Columbia', 3)"
   ]
  },
  {
   "cell_type": "code",
   "execution_count": 257,
   "metadata": {},
   "outputs": [],
   "source": [
    "main_df = pd.concat([main_df, df])"
   ]
  },
  {
   "cell_type": "code",
   "execution_count": 258,
   "metadata": {},
   "outputs": [
    {
     "data": {
      "text/plain": [
       "(252, 5)"
      ]
     },
     "execution_count": 258,
     "metadata": {},
     "output_type": "execute_result"
    }
   ],
   "source": [
    "main_df.shape"
   ]
  },
  {
   "cell_type": "code",
   "execution_count": 259,
   "metadata": {},
   "outputs": [
    {
     "data": {
      "text/plain": [
       "Date\n",
       "2013-01-01    1.018476e+08\n",
       "2013-02-01    8.445781e+07\n",
       "2013-03-01    8.915608e+07\n",
       "2013-04-01    9.916639e+07\n",
       "2013-05-01    1.060422e+08\n",
       "Name: Sales, dtype: float64"
      ]
     },
     "execution_count": 259,
     "metadata": {},
     "output_type": "execute_result"
    }
   ],
   "source": [
    "denmark_2 = train_data.loc[train_data.Country == 'Denmark', :]\n",
    "denmark_2 = denmark_2.sort_values(['Year', 'Month']).loc[denmark_2.Product_ID == 2]\n",
    "denmark_2['Day'] = 1\n",
    "denmark_2['Date'] = pd.to_datetime(denmark_2[['Year', 'Month', 'Day']])\n",
    "denmark_2.head()\n",
    "\n",
    "sales = denmark_2.Sales\n",
    "sales.index = range(sales.count())\n",
    "date = denmark_2.Date\n",
    "date.index = range(date.count())\n",
    "denmark_2_series = pd.DataFrame({'Date': date, 'Sales': sales})\n",
    "denmark_2_series.head()\n",
    "\n",
    "denmark_2_series.set_index('Date', inplace=True)\n",
    "\n",
    "denmark_2_series = pd.Series(denmark_2_series.Sales, index=denmark_2_series.index)\n",
    "denmark_2_series.head()"
   ]
  },
  {
   "cell_type": "code",
   "execution_count": 260,
   "metadata": {},
   "outputs": [],
   "source": [
    "best_pdq, best_seasonal_pdq, df = sarimax(denmark_2_series, 'Denmark', 2)"
   ]
  },
  {
   "cell_type": "code",
   "execution_count": 261,
   "metadata": {},
   "outputs": [],
   "source": [
    "main_df = pd.concat([main_df, df])"
   ]
  },
  {
   "cell_type": "code",
   "execution_count": 262,
   "metadata": {},
   "outputs": [
    {
     "data": {
      "text/plain": [
       "(288, 5)"
      ]
     },
     "execution_count": 262,
     "metadata": {},
     "output_type": "execute_result"
    }
   ],
   "source": [
    "main_df.shape"
   ]
  },
  {
   "cell_type": "code",
   "execution_count": 263,
   "metadata": {},
   "outputs": [
    {
     "data": {
      "text/plain": [
       "Date\n",
       "2013-01-01    166907.57\n",
       "2013-02-01    140685.22\n",
       "2013-03-01    159316.90\n",
       "2013-04-01    179295.95\n",
       "2013-05-01    175741.65\n",
       "Name: Sales, dtype: float64"
      ]
     },
     "execution_count": 263,
     "metadata": {},
     "output_type": "execute_result"
    }
   ],
   "source": [
    "england_4 = train_data.loc[train_data.Country == 'England', :]\n",
    "england_4 = england_4.sort_values(['Year', 'Month']).loc[england_4.Product_ID == 4]\n",
    "england_4['Day'] = 1\n",
    "england_4['Date'] = pd.to_datetime(england_4[['Year', 'Month', 'Day']])\n",
    "england_4.head()\n",
    "\n",
    "sales = england_4.Sales\n",
    "sales.index = range(sales.count())\n",
    "date = england_4.Date\n",
    "date.index = range(date.count())\n",
    "england_4_series = pd.DataFrame({'Date': date, 'Sales': sales})\n",
    "england_4_series.head()\n",
    "\n",
    "england_4_series.set_index('Date', inplace=True)\n",
    "\n",
    "england_4_series = pd.Series(england_4_series.Sales, index=england_4_series.index)\n",
    "england_4_series.head()"
   ]
  },
  {
   "cell_type": "code",
   "execution_count": 264,
   "metadata": {},
   "outputs": [],
   "source": [
    "best_pdq, best_seasonal_pdq, df = sarimax(england_4_series, 'England', 4)"
   ]
  },
  {
   "cell_type": "code",
   "execution_count": 265,
   "metadata": {},
   "outputs": [],
   "source": [
    "main_df = pd.concat([main_df, df])"
   ]
  },
  {
   "cell_type": "code",
   "execution_count": 266,
   "metadata": {},
   "outputs": [
    {
     "data": {
      "text/plain": [
       "(324, 5)"
      ]
     },
     "execution_count": 266,
     "metadata": {},
     "output_type": "execute_result"
    }
   ],
   "source": [
    "main_df.shape"
   ]
  },
  {
   "cell_type": "code",
   "execution_count": 267,
   "metadata": {},
   "outputs": [
    {
     "data": {
      "text/plain": [
       "Date\n",
       "2013-01-01    462370.62\n",
       "2013-02-01    414931.16\n",
       "2013-03-01    439883.54\n",
       "2013-04-01    505948.04\n",
       "2013-05-01    491075.38\n",
       "Name: Sales, dtype: float64"
      ]
     },
     "execution_count": 267,
     "metadata": {},
     "output_type": "execute_result"
    }
   ],
   "source": [
    "england_5 = train_data.loc[train_data.Country == 'England', :]\n",
    "england_5 = england_5.sort_values(['Year', 'Month']).loc[england_5.Product_ID == 5]\n",
    "england_5['Day'] = 1\n",
    "england_5['Date'] = pd.to_datetime(england_5[['Year', 'Month', 'Day']])\n",
    "england_5.head()\n",
    "\n",
    "sales = england_5.Sales\n",
    "sales.index = range(sales.count())\n",
    "date = england_5.Date\n",
    "date.index = range(date.count())\n",
    "england_5_series = pd.DataFrame({'Date': date, 'Sales': sales})\n",
    "england_5_series.head()\n",
    "\n",
    "england_5_series.set_index('Date', inplace=True)\n",
    "\n",
    "england_5_series = pd.Series(england_5_series.Sales, index=england_5_series.index)\n",
    "england_5_series.head()"
   ]
  },
  {
   "cell_type": "code",
   "execution_count": 268,
   "metadata": {},
   "outputs": [],
   "source": [
    "best_pdq, best_seasonal_pdq, df = sarimax(england_5_series, 'England', 5)"
   ]
  },
  {
   "cell_type": "code",
   "execution_count": 269,
   "metadata": {},
   "outputs": [],
   "source": [
    "main_df = pd.concat([main_df, df])"
   ]
  },
  {
   "cell_type": "code",
   "execution_count": 270,
   "metadata": {},
   "outputs": [
    {
     "data": {
      "text/plain": [
       "(360, 5)"
      ]
     },
     "execution_count": 270,
     "metadata": {},
     "output_type": "execute_result"
    }
   ],
   "source": [
    "main_df.shape"
   ]
  },
  {
   "cell_type": "code",
   "execution_count": 271,
   "metadata": {},
   "outputs": [
    {
     "data": {
      "text/plain": [
       "Date\n",
       "2013-01-01    15153419.52\n",
       "2013-02-01    16524812.16\n",
       "2013-03-01    28217082.24\n",
       "2013-04-01    22522665.60\n",
       "2013-05-01    32942280.96\n",
       "Name: Sales, dtype: float64"
      ]
     },
     "execution_count": 271,
     "metadata": {},
     "output_type": "execute_result"
    }
   ],
   "source": [
    "finland_4 = train_data.loc[train_data.Country == 'Finland', :]\n",
    "finland_4 = finland_4.sort_values(['Year', 'Month']).loc[finland_4.Product_ID == 4]\n",
    "finland_4['Day'] = 1\n",
    "finland_4['Date'] = pd.to_datetime(finland_4[['Year', 'Month', 'Day']])\n",
    "finland_4.head()\n",
    "\n",
    "sales = finland_4.Sales\n",
    "sales.index = range(sales.count())\n",
    "date = finland_4.Date\n",
    "date.index = range(date.count())\n",
    "finland_4_series = pd.DataFrame({'Date': date, 'Sales': sales})\n",
    "\n",
    "finland_4_series.set_index('Date', inplace=True)\n",
    "\n",
    "finland_4_series = pd.Series(finland_4_series.Sales, index=finland_4_series.index)\n",
    "finland_4_series.head()"
   ]
  },
  {
   "cell_type": "code",
   "execution_count": 272,
   "metadata": {},
   "outputs": [],
   "source": [
    "best_pdq, best_seasonal_pdq, df = sarimax(finland_4_series, 'Finland', 4)"
   ]
  },
  {
   "cell_type": "code",
   "execution_count": 273,
   "metadata": {},
   "outputs": [],
   "source": [
    "main_df = pd.concat([main_df, df])"
   ]
  },
  {
   "cell_type": "markdown",
   "metadata": {},
   "source": [
    "## 'main_df' contains all the predicted values for all the combinations of Country and Product_ID"
   ]
  },
  {
   "cell_type": "code",
   "execution_count": 274,
   "metadata": {},
   "outputs": [
    {
     "data": {
      "text/plain": [
       "(396, 5)"
      ]
     },
     "execution_count": 274,
     "metadata": {},
     "output_type": "execute_result"
    }
   ],
   "source": [
    "main_df.shape"
   ]
  },
  {
   "cell_type": "code",
   "execution_count": null,
   "metadata": {},
   "outputs": [],
   "source": []
  },
  {
   "cell_type": "code",
   "execution_count": 276,
   "metadata": {},
   "outputs": [],
   "source": [
    "# main_df.to_csv('main_df.csv')"
   ]
  },
  {
   "cell_type": "markdown",
   "metadata": {},
   "source": [
    "## Read test data and preprocess."
   ]
  },
  {
   "cell_type": "code",
   "execution_count": 281,
   "metadata": {},
   "outputs": [],
   "source": [
    "test_data = pd.read_csv(PATH_TO_test_data)\n",
    "test_data.drop(['S_No', 'Sales'], axis=1, inplace=True)\n",
    "test_data['Day'] = 1\n",
    "test_data['Date'] = pd.to_datetime(test_data[['Year', 'Month', 'Day']])"
   ]
  },
  {
   "cell_type": "code",
   "execution_count": 283,
   "metadata": {},
   "outputs": [
    {
     "data": {
      "text/html": [
       "<div>\n",
       "<style scoped>\n",
       "    .dataframe tbody tr th:only-of-type {\n",
       "        vertical-align: middle;\n",
       "    }\n",
       "\n",
       "    .dataframe tbody tr th {\n",
       "        vertical-align: top;\n",
       "    }\n",
       "\n",
       "    .dataframe thead th {\n",
       "        text-align: right;\n",
       "    }\n",
       "</style>\n",
       "<table border=\"1\" class=\"dataframe\">\n",
       "  <thead>\n",
       "    <tr style=\"text-align: right;\">\n",
       "      <th></th>\n",
       "      <th>Year</th>\n",
       "      <th>Month</th>\n",
       "      <th>Product_ID</th>\n",
       "      <th>Country</th>\n",
       "      <th>Day</th>\n",
       "      <th>Date</th>\n",
       "    </tr>\n",
       "  </thead>\n",
       "  <tbody>\n",
       "    <tr>\n",
       "      <th>0</th>\n",
       "      <td>2016</td>\n",
       "      <td>4</td>\n",
       "      <td>1</td>\n",
       "      <td>Argentina</td>\n",
       "      <td>1</td>\n",
       "      <td>2016-04-01</td>\n",
       "    </tr>\n",
       "    <tr>\n",
       "      <th>1</th>\n",
       "      <td>2016</td>\n",
       "      <td>5</td>\n",
       "      <td>1</td>\n",
       "      <td>Argentina</td>\n",
       "      <td>1</td>\n",
       "      <td>2016-05-01</td>\n",
       "    </tr>\n",
       "    <tr>\n",
       "      <th>2</th>\n",
       "      <td>2016</td>\n",
       "      <td>6</td>\n",
       "      <td>1</td>\n",
       "      <td>Argentina</td>\n",
       "      <td>1</td>\n",
       "      <td>2016-06-01</td>\n",
       "    </tr>\n",
       "    <tr>\n",
       "      <th>3</th>\n",
       "      <td>2016</td>\n",
       "      <td>7</td>\n",
       "      <td>1</td>\n",
       "      <td>Argentina</td>\n",
       "      <td>1</td>\n",
       "      <td>2016-07-01</td>\n",
       "    </tr>\n",
       "    <tr>\n",
       "      <th>4</th>\n",
       "      <td>2016</td>\n",
       "      <td>8</td>\n",
       "      <td>1</td>\n",
       "      <td>Argentina</td>\n",
       "      <td>1</td>\n",
       "      <td>2016-08-01</td>\n",
       "    </tr>\n",
       "  </tbody>\n",
       "</table>\n",
       "</div>"
      ],
      "text/plain": [
       "   Year  Month  Product_ID    Country  Day       Date\n",
       "0  2016      4           1  Argentina    1 2016-04-01\n",
       "1  2016      5           1  Argentina    1 2016-05-01\n",
       "2  2016      6           1  Argentina    1 2016-06-01\n",
       "3  2016      7           1  Argentina    1 2016-07-01\n",
       "4  2016      8           1  Argentina    1 2016-08-01"
      ]
     },
     "execution_count": 283,
     "metadata": {},
     "output_type": "execute_result"
    }
   ],
   "source": [
    "test_data.head()"
   ]
  },
  {
   "cell_type": "code",
   "execution_count": 358,
   "metadata": {},
   "outputs": [],
   "source": [
    "duplicate_test_data = test_data"
   ]
  },
  {
   "cell_type": "code",
   "execution_count": 359,
   "metadata": {},
   "outputs": [
    {
     "data": {
      "text/html": [
       "<div>\n",
       "<style scoped>\n",
       "    .dataframe tbody tr th:only-of-type {\n",
       "        vertical-align: middle;\n",
       "    }\n",
       "\n",
       "    .dataframe tbody tr th {\n",
       "        vertical-align: top;\n",
       "    }\n",
       "\n",
       "    .dataframe thead th {\n",
       "        text-align: right;\n",
       "    }\n",
       "</style>\n",
       "<table border=\"1\" class=\"dataframe\">\n",
       "  <thead>\n",
       "    <tr style=\"text-align: right;\">\n",
       "      <th></th>\n",
       "      <th>Year</th>\n",
       "      <th>Month</th>\n",
       "      <th>Product_ID</th>\n",
       "      <th>Country</th>\n",
       "      <th>Day</th>\n",
       "      <th>Date</th>\n",
       "    </tr>\n",
       "  </thead>\n",
       "  <tbody>\n",
       "    <tr>\n",
       "      <th>0</th>\n",
       "      <td>2016</td>\n",
       "      <td>4</td>\n",
       "      <td>1</td>\n",
       "      <td>Argentina</td>\n",
       "      <td>1</td>\n",
       "      <td>2016-04-01</td>\n",
       "    </tr>\n",
       "    <tr>\n",
       "      <th>1</th>\n",
       "      <td>2016</td>\n",
       "      <td>5</td>\n",
       "      <td>1</td>\n",
       "      <td>Argentina</td>\n",
       "      <td>1</td>\n",
       "      <td>2016-05-01</td>\n",
       "    </tr>\n",
       "    <tr>\n",
       "      <th>2</th>\n",
       "      <td>2016</td>\n",
       "      <td>6</td>\n",
       "      <td>1</td>\n",
       "      <td>Argentina</td>\n",
       "      <td>1</td>\n",
       "      <td>2016-06-01</td>\n",
       "    </tr>\n",
       "    <tr>\n",
       "      <th>3</th>\n",
       "      <td>2016</td>\n",
       "      <td>7</td>\n",
       "      <td>1</td>\n",
       "      <td>Argentina</td>\n",
       "      <td>1</td>\n",
       "      <td>2016-07-01</td>\n",
       "    </tr>\n",
       "    <tr>\n",
       "      <th>4</th>\n",
       "      <td>2016</td>\n",
       "      <td>8</td>\n",
       "      <td>1</td>\n",
       "      <td>Argentina</td>\n",
       "      <td>1</td>\n",
       "      <td>2016-08-01</td>\n",
       "    </tr>\n",
       "  </tbody>\n",
       "</table>\n",
       "</div>"
      ],
      "text/plain": [
       "   Year  Month  Product_ID    Country  Day       Date\n",
       "0  2016      4           1  Argentina    1 2016-04-01\n",
       "1  2016      5           1  Argentina    1 2016-05-01\n",
       "2  2016      6           1  Argentina    1 2016-06-01\n",
       "3  2016      7           1  Argentina    1 2016-07-01\n",
       "4  2016      8           1  Argentina    1 2016-08-01"
      ]
     },
     "execution_count": 359,
     "metadata": {},
     "output_type": "execute_result"
    }
   ],
   "source": [
    "duplicate_test_data.head()"
   ]
  },
  {
   "cell_type": "code",
   "execution_count": 360,
   "metadata": {},
   "outputs": [
    {
     "data": {
      "text/plain": [
       "(105, 6)"
      ]
     },
     "execution_count": 360,
     "metadata": {},
     "output_type": "execute_result"
    }
   ],
   "source": [
    "duplicate_test_data.shape"
   ]
  },
  {
   "cell_type": "code",
   "execution_count": 361,
   "metadata": {},
   "outputs": [],
   "source": [
    "duplicate_main_df = main_df"
   ]
  },
  {
   "cell_type": "code",
   "execution_count": 362,
   "metadata": {},
   "outputs": [],
   "source": [
    "duplicate_main_df = duplicate_main_df.reset_index()\n",
    "duplicate_main_df.rename(columns = {'index': 'Date'}, inplace=True)"
   ]
  },
  {
   "cell_type": "code",
   "execution_count": 363,
   "metadata": {},
   "outputs": [
    {
     "data": {
      "text/html": [
       "<div>\n",
       "<style scoped>\n",
       "    .dataframe tbody tr th:only-of-type {\n",
       "        vertical-align: middle;\n",
       "    }\n",
       "\n",
       "    .dataframe tbody tr th {\n",
       "        vertical-align: top;\n",
       "    }\n",
       "\n",
       "    .dataframe thead th {\n",
       "        text-align: right;\n",
       "    }\n",
       "</style>\n",
       "<table border=\"1\" class=\"dataframe\">\n",
       "  <thead>\n",
       "    <tr style=\"text-align: right;\">\n",
       "      <th></th>\n",
       "      <th>Date</th>\n",
       "      <th>lower Sales</th>\n",
       "      <th>upper Sales</th>\n",
       "      <th>forcast</th>\n",
       "      <th>Country</th>\n",
       "      <th>Product_ID</th>\n",
       "    </tr>\n",
       "  </thead>\n",
       "  <tbody>\n",
       "    <tr>\n",
       "      <th>0</th>\n",
       "      <td>2016-04-01</td>\n",
       "      <td>-2.204692e+07</td>\n",
       "      <td>2.563011e+07</td>\n",
       "      <td>1.791594e+06</td>\n",
       "      <td>Argentina</td>\n",
       "      <td>1</td>\n",
       "    </tr>\n",
       "    <tr>\n",
       "      <th>1</th>\n",
       "      <td>2016-05-01</td>\n",
       "      <td>-2.744635e+07</td>\n",
       "      <td>4.622482e+07</td>\n",
       "      <td>9.389230e+06</td>\n",
       "      <td>Argentina</td>\n",
       "      <td>1</td>\n",
       "    </tr>\n",
       "    <tr>\n",
       "      <th>2</th>\n",
       "      <td>2016-06-01</td>\n",
       "      <td>-2.217545e+07</td>\n",
       "      <td>5.842786e+07</td>\n",
       "      <td>1.812621e+07</td>\n",
       "      <td>Argentina</td>\n",
       "      <td>1</td>\n",
       "    </tr>\n",
       "    <tr>\n",
       "      <th>3</th>\n",
       "      <td>2016-07-01</td>\n",
       "      <td>-4.976126e+07</td>\n",
       "      <td>4.613342e+07</td>\n",
       "      <td>-1.813923e+06</td>\n",
       "      <td>Argentina</td>\n",
       "      <td>1</td>\n",
       "    </tr>\n",
       "    <tr>\n",
       "      <th>4</th>\n",
       "      <td>2016-08-01</td>\n",
       "      <td>-7.188802e+07</td>\n",
       "      <td>3.595239e+07</td>\n",
       "      <td>-1.796781e+07</td>\n",
       "      <td>Argentina</td>\n",
       "      <td>1</td>\n",
       "    </tr>\n",
       "  </tbody>\n",
       "</table>\n",
       "</div>"
      ],
      "text/plain": [
       "        Date   lower Sales   upper Sales       forcast    Country  Product_ID\n",
       "0 2016-04-01 -2.204692e+07  2.563011e+07  1.791594e+06  Argentina           1\n",
       "1 2016-05-01 -2.744635e+07  4.622482e+07  9.389230e+06  Argentina           1\n",
       "2 2016-06-01 -2.217545e+07  5.842786e+07  1.812621e+07  Argentina           1\n",
       "3 2016-07-01 -4.976126e+07  4.613342e+07 -1.813923e+06  Argentina           1\n",
       "4 2016-08-01 -7.188802e+07  3.595239e+07 -1.796781e+07  Argentina           1"
      ]
     },
     "execution_count": 363,
     "metadata": {},
     "output_type": "execute_result"
    }
   ],
   "source": [
    "duplicate_main_df.head()"
   ]
  },
  {
   "cell_type": "markdown",
   "metadata": {},
   "source": [
    "## Merge test data and main dataframe."
   ]
  },
  {
   "cell_type": "code",
   "execution_count": 364,
   "metadata": {},
   "outputs": [],
   "source": [
    "duplicate_test_data = pd.merge(duplicate_test_data, duplicate_main_df, on=['Product_ID', 'Country', 'Date'], how='left')"
   ]
  },
  {
   "cell_type": "code",
   "execution_count": 365,
   "metadata": {},
   "outputs": [
    {
     "data": {
      "text/html": [
       "<div>\n",
       "<style scoped>\n",
       "    .dataframe tbody tr th:only-of-type {\n",
       "        vertical-align: middle;\n",
       "    }\n",
       "\n",
       "    .dataframe tbody tr th {\n",
       "        vertical-align: top;\n",
       "    }\n",
       "\n",
       "    .dataframe thead th {\n",
       "        text-align: right;\n",
       "    }\n",
       "</style>\n",
       "<table border=\"1\" class=\"dataframe\">\n",
       "  <thead>\n",
       "    <tr style=\"text-align: right;\">\n",
       "      <th></th>\n",
       "      <th>Year</th>\n",
       "      <th>Month</th>\n",
       "      <th>Product_ID</th>\n",
       "      <th>Country</th>\n",
       "      <th>Day</th>\n",
       "      <th>Date</th>\n",
       "      <th>lower Sales</th>\n",
       "      <th>upper Sales</th>\n",
       "      <th>forcast</th>\n",
       "    </tr>\n",
       "  </thead>\n",
       "  <tbody>\n",
       "    <tr>\n",
       "      <th>0</th>\n",
       "      <td>2016</td>\n",
       "      <td>4</td>\n",
       "      <td>1</td>\n",
       "      <td>Argentina</td>\n",
       "      <td>1</td>\n",
       "      <td>2016-04-01</td>\n",
       "      <td>-2.204692e+07</td>\n",
       "      <td>2.563011e+07</td>\n",
       "      <td>1.791594e+06</td>\n",
       "    </tr>\n",
       "    <tr>\n",
       "      <th>1</th>\n",
       "      <td>2016</td>\n",
       "      <td>5</td>\n",
       "      <td>1</td>\n",
       "      <td>Argentina</td>\n",
       "      <td>1</td>\n",
       "      <td>2016-05-01</td>\n",
       "      <td>-2.744635e+07</td>\n",
       "      <td>4.622482e+07</td>\n",
       "      <td>9.389230e+06</td>\n",
       "    </tr>\n",
       "    <tr>\n",
       "      <th>2</th>\n",
       "      <td>2016</td>\n",
       "      <td>6</td>\n",
       "      <td>1</td>\n",
       "      <td>Argentina</td>\n",
       "      <td>1</td>\n",
       "      <td>2016-06-01</td>\n",
       "      <td>-2.217545e+07</td>\n",
       "      <td>5.842786e+07</td>\n",
       "      <td>1.812621e+07</td>\n",
       "    </tr>\n",
       "    <tr>\n",
       "      <th>3</th>\n",
       "      <td>2016</td>\n",
       "      <td>7</td>\n",
       "      <td>1</td>\n",
       "      <td>Argentina</td>\n",
       "      <td>1</td>\n",
       "      <td>2016-07-01</td>\n",
       "      <td>-4.976126e+07</td>\n",
       "      <td>4.613342e+07</td>\n",
       "      <td>-1.813923e+06</td>\n",
       "    </tr>\n",
       "    <tr>\n",
       "      <th>4</th>\n",
       "      <td>2016</td>\n",
       "      <td>8</td>\n",
       "      <td>1</td>\n",
       "      <td>Argentina</td>\n",
       "      <td>1</td>\n",
       "      <td>2016-08-01</td>\n",
       "      <td>-7.188802e+07</td>\n",
       "      <td>3.595239e+07</td>\n",
       "      <td>-1.796781e+07</td>\n",
       "    </tr>\n",
       "  </tbody>\n",
       "</table>\n",
       "</div>"
      ],
      "text/plain": [
       "   Year  Month  Product_ID    Country  Day       Date   lower Sales  \\\n",
       "0  2016      4           1  Argentina    1 2016-04-01 -2.204692e+07   \n",
       "1  2016      5           1  Argentina    1 2016-05-01 -2.744635e+07   \n",
       "2  2016      6           1  Argentina    1 2016-06-01 -2.217545e+07   \n",
       "3  2016      7           1  Argentina    1 2016-07-01 -4.976126e+07   \n",
       "4  2016      8           1  Argentina    1 2016-08-01 -7.188802e+07   \n",
       "\n",
       "    upper Sales       forcast  \n",
       "0  2.563011e+07  1.791594e+06  \n",
       "1  4.622482e+07  9.389230e+06  \n",
       "2  5.842786e+07  1.812621e+07  \n",
       "3  4.613342e+07 -1.813923e+06  \n",
       "4  3.595239e+07 -1.796781e+07  "
      ]
     },
     "execution_count": 365,
     "metadata": {},
     "output_type": "execute_result"
    }
   ],
   "source": [
    "duplicate_test_data.head()"
   ]
  },
  {
   "cell_type": "code",
   "execution_count": 366,
   "metadata": {},
   "outputs": [],
   "source": [
    "duplicate_test_data.drop(columns=['Day', 'Date', 'lower Sales', 'upper Sales'], inplace=True)"
   ]
  },
  {
   "cell_type": "code",
   "execution_count": 367,
   "metadata": {},
   "outputs": [
    {
     "data": {
      "text/html": [
       "<div>\n",
       "<style scoped>\n",
       "    .dataframe tbody tr th:only-of-type {\n",
       "        vertical-align: middle;\n",
       "    }\n",
       "\n",
       "    .dataframe tbody tr th {\n",
       "        vertical-align: top;\n",
       "    }\n",
       "\n",
       "    .dataframe thead th {\n",
       "        text-align: right;\n",
       "    }\n",
       "</style>\n",
       "<table border=\"1\" class=\"dataframe\">\n",
       "  <thead>\n",
       "    <tr style=\"text-align: right;\">\n",
       "      <th></th>\n",
       "      <th>Year</th>\n",
       "      <th>Month</th>\n",
       "      <th>Product_ID</th>\n",
       "      <th>Country</th>\n",
       "      <th>forcast</th>\n",
       "    </tr>\n",
       "  </thead>\n",
       "  <tbody>\n",
       "    <tr>\n",
       "      <th>0</th>\n",
       "      <td>2016</td>\n",
       "      <td>4</td>\n",
       "      <td>1</td>\n",
       "      <td>Argentina</td>\n",
       "      <td>1.791594e+06</td>\n",
       "    </tr>\n",
       "    <tr>\n",
       "      <th>1</th>\n",
       "      <td>2016</td>\n",
       "      <td>5</td>\n",
       "      <td>1</td>\n",
       "      <td>Argentina</td>\n",
       "      <td>9.389230e+06</td>\n",
       "    </tr>\n",
       "    <tr>\n",
       "      <th>2</th>\n",
       "      <td>2016</td>\n",
       "      <td>6</td>\n",
       "      <td>1</td>\n",
       "      <td>Argentina</td>\n",
       "      <td>1.812621e+07</td>\n",
       "    </tr>\n",
       "    <tr>\n",
       "      <th>3</th>\n",
       "      <td>2016</td>\n",
       "      <td>7</td>\n",
       "      <td>1</td>\n",
       "      <td>Argentina</td>\n",
       "      <td>-1.813923e+06</td>\n",
       "    </tr>\n",
       "    <tr>\n",
       "      <th>4</th>\n",
       "      <td>2016</td>\n",
       "      <td>8</td>\n",
       "      <td>1</td>\n",
       "      <td>Argentina</td>\n",
       "      <td>-1.796781e+07</td>\n",
       "    </tr>\n",
       "  </tbody>\n",
       "</table>\n",
       "</div>"
      ],
      "text/plain": [
       "   Year  Month  Product_ID    Country       forcast\n",
       "0  2016      4           1  Argentina  1.791594e+06\n",
       "1  2016      5           1  Argentina  9.389230e+06\n",
       "2  2016      6           1  Argentina  1.812621e+07\n",
       "3  2016      7           1  Argentina -1.813923e+06\n",
       "4  2016      8           1  Argentina -1.796781e+07"
      ]
     },
     "execution_count": 367,
     "metadata": {},
     "output_type": "execute_result"
    }
   ],
   "source": [
    "duplicate_test_data.head()"
   ]
  },
  {
   "cell_type": "code",
   "execution_count": 368,
   "metadata": {},
   "outputs": [
    {
     "data": {
      "text/plain": [
       "(105, 5)"
      ]
     },
     "execution_count": 368,
     "metadata": {},
     "output_type": "execute_result"
    }
   ],
   "source": [
    "duplicate_test_data.shape"
   ]
  },
  {
   "cell_type": "code",
   "execution_count": 369,
   "metadata": {},
   "outputs": [],
   "source": [
    "duplicate_test_data = duplicate_test_data.rename(columns={'forcast': 'Sales'})"
   ]
  },
  {
   "cell_type": "code",
   "execution_count": 370,
   "metadata": {},
   "outputs": [
    {
     "data": {
      "text/html": [
       "<div>\n",
       "<style scoped>\n",
       "    .dataframe tbody tr th:only-of-type {\n",
       "        vertical-align: middle;\n",
       "    }\n",
       "\n",
       "    .dataframe tbody tr th {\n",
       "        vertical-align: top;\n",
       "    }\n",
       "\n",
       "    .dataframe thead th {\n",
       "        text-align: right;\n",
       "    }\n",
       "</style>\n",
       "<table border=\"1\" class=\"dataframe\">\n",
       "  <thead>\n",
       "    <tr style=\"text-align: right;\">\n",
       "      <th></th>\n",
       "      <th>Year</th>\n",
       "      <th>Month</th>\n",
       "      <th>Product_ID</th>\n",
       "      <th>Country</th>\n",
       "      <th>Sales</th>\n",
       "    </tr>\n",
       "  </thead>\n",
       "  <tbody>\n",
       "    <tr>\n",
       "      <th>0</th>\n",
       "      <td>2016</td>\n",
       "      <td>4</td>\n",
       "      <td>1</td>\n",
       "      <td>Argentina</td>\n",
       "      <td>1.791594e+06</td>\n",
       "    </tr>\n",
       "    <tr>\n",
       "      <th>1</th>\n",
       "      <td>2016</td>\n",
       "      <td>5</td>\n",
       "      <td>1</td>\n",
       "      <td>Argentina</td>\n",
       "      <td>9.389230e+06</td>\n",
       "    </tr>\n",
       "    <tr>\n",
       "      <th>2</th>\n",
       "      <td>2016</td>\n",
       "      <td>6</td>\n",
       "      <td>1</td>\n",
       "      <td>Argentina</td>\n",
       "      <td>1.812621e+07</td>\n",
       "    </tr>\n",
       "    <tr>\n",
       "      <th>3</th>\n",
       "      <td>2016</td>\n",
       "      <td>7</td>\n",
       "      <td>1</td>\n",
       "      <td>Argentina</td>\n",
       "      <td>-1.813923e+06</td>\n",
       "    </tr>\n",
       "    <tr>\n",
       "      <th>4</th>\n",
       "      <td>2016</td>\n",
       "      <td>8</td>\n",
       "      <td>1</td>\n",
       "      <td>Argentina</td>\n",
       "      <td>-1.796781e+07</td>\n",
       "    </tr>\n",
       "  </tbody>\n",
       "</table>\n",
       "</div>"
      ],
      "text/plain": [
       "   Year  Month  Product_ID    Country         Sales\n",
       "0  2016      4           1  Argentina  1.791594e+06\n",
       "1  2016      5           1  Argentina  9.389230e+06\n",
       "2  2016      6           1  Argentina  1.812621e+07\n",
       "3  2016      7           1  Argentina -1.813923e+06\n",
       "4  2016      8           1  Argentina -1.796781e+07"
      ]
     },
     "execution_count": 370,
     "metadata": {},
     "output_type": "execute_result"
    }
   ],
   "source": [
    "duplicate_test_data.head()"
   ]
  },
  {
   "cell_type": "code",
   "execution_count": null,
   "metadata": {},
   "outputs": [],
   "source": []
  },
  {
   "cell_type": "code",
   "execution_count": 371,
   "metadata": {},
   "outputs": [],
   "source": [
    "test_data_s_no = pd.read_csv(PATH_TO_test_data)"
   ]
  },
  {
   "cell_type": "code",
   "execution_count": 372,
   "metadata": {},
   "outputs": [
    {
     "data": {
      "text/html": [
       "<div>\n",
       "<style scoped>\n",
       "    .dataframe tbody tr th:only-of-type {\n",
       "        vertical-align: middle;\n",
       "    }\n",
       "\n",
       "    .dataframe tbody tr th {\n",
       "        vertical-align: top;\n",
       "    }\n",
       "\n",
       "    .dataframe thead th {\n",
       "        text-align: right;\n",
       "    }\n",
       "</style>\n",
       "<table border=\"1\" class=\"dataframe\">\n",
       "  <thead>\n",
       "    <tr style=\"text-align: right;\">\n",
       "      <th></th>\n",
       "      <th>S_No</th>\n",
       "      <th>Year</th>\n",
       "      <th>Month</th>\n",
       "      <th>Product_ID</th>\n",
       "      <th>Country</th>\n",
       "      <th>Sales</th>\n",
       "    </tr>\n",
       "  </thead>\n",
       "  <tbody>\n",
       "    <tr>\n",
       "      <th>0</th>\n",
       "      <td>79073</td>\n",
       "      <td>2016</td>\n",
       "      <td>4</td>\n",
       "      <td>1</td>\n",
       "      <td>Argentina</td>\n",
       "      <td>NaN</td>\n",
       "    </tr>\n",
       "    <tr>\n",
       "      <th>1</th>\n",
       "      <td>79074</td>\n",
       "      <td>2016</td>\n",
       "      <td>5</td>\n",
       "      <td>1</td>\n",
       "      <td>Argentina</td>\n",
       "      <td>NaN</td>\n",
       "    </tr>\n",
       "    <tr>\n",
       "      <th>2</th>\n",
       "      <td>79075</td>\n",
       "      <td>2016</td>\n",
       "      <td>6</td>\n",
       "      <td>1</td>\n",
       "      <td>Argentina</td>\n",
       "      <td>NaN</td>\n",
       "    </tr>\n",
       "    <tr>\n",
       "      <th>3</th>\n",
       "      <td>79076</td>\n",
       "      <td>2016</td>\n",
       "      <td>7</td>\n",
       "      <td>1</td>\n",
       "      <td>Argentina</td>\n",
       "      <td>NaN</td>\n",
       "    </tr>\n",
       "    <tr>\n",
       "      <th>4</th>\n",
       "      <td>79077</td>\n",
       "      <td>2016</td>\n",
       "      <td>8</td>\n",
       "      <td>1</td>\n",
       "      <td>Argentina</td>\n",
       "      <td>NaN</td>\n",
       "    </tr>\n",
       "  </tbody>\n",
       "</table>\n",
       "</div>"
      ],
      "text/plain": [
       "    S_No  Year  Month  Product_ID    Country  Sales\n",
       "0  79073  2016      4           1  Argentina    NaN\n",
       "1  79074  2016      5           1  Argentina    NaN\n",
       "2  79075  2016      6           1  Argentina    NaN\n",
       "3  79076  2016      7           1  Argentina    NaN\n",
       "4  79077  2016      8           1  Argentina    NaN"
      ]
     },
     "execution_count": 372,
     "metadata": {},
     "output_type": "execute_result"
    }
   ],
   "source": [
    "test_data_s_no.head()"
   ]
  },
  {
   "cell_type": "code",
   "execution_count": 373,
   "metadata": {},
   "outputs": [],
   "source": [
    "duplicate_test_data['S_No'] = test_data_s_no.S_No"
   ]
  },
  {
   "cell_type": "code",
   "execution_count": 374,
   "metadata": {},
   "outputs": [],
   "source": [
    "duplicate_test_data['Sales'] = duplicate_test_data['Sales'].abs()"
   ]
  },
  {
   "cell_type": "code",
   "execution_count": 375,
   "metadata": {},
   "outputs": [],
   "source": [
    "duplicate_test_data = duplicate_test_data[['S_No', 'Year', 'Month', 'Product_ID', 'Country', 'Sales']]"
   ]
  },
  {
   "cell_type": "code",
   "execution_count": 376,
   "metadata": {},
   "outputs": [
    {
     "data": {
      "text/html": [
       "<div>\n",
       "<style scoped>\n",
       "    .dataframe tbody tr th:only-of-type {\n",
       "        vertical-align: middle;\n",
       "    }\n",
       "\n",
       "    .dataframe tbody tr th {\n",
       "        vertical-align: top;\n",
       "    }\n",
       "\n",
       "    .dataframe thead th {\n",
       "        text-align: right;\n",
       "    }\n",
       "</style>\n",
       "<table border=\"1\" class=\"dataframe\">\n",
       "  <thead>\n",
       "    <tr style=\"text-align: right;\">\n",
       "      <th></th>\n",
       "      <th>S_No</th>\n",
       "      <th>Year</th>\n",
       "      <th>Month</th>\n",
       "      <th>Product_ID</th>\n",
       "      <th>Country</th>\n",
       "      <th>Sales</th>\n",
       "    </tr>\n",
       "  </thead>\n",
       "  <tbody>\n",
       "    <tr>\n",
       "      <th>0</th>\n",
       "      <td>79073</td>\n",
       "      <td>2016</td>\n",
       "      <td>4</td>\n",
       "      <td>1</td>\n",
       "      <td>Argentina</td>\n",
       "      <td>1.791594e+06</td>\n",
       "    </tr>\n",
       "    <tr>\n",
       "      <th>1</th>\n",
       "      <td>79074</td>\n",
       "      <td>2016</td>\n",
       "      <td>5</td>\n",
       "      <td>1</td>\n",
       "      <td>Argentina</td>\n",
       "      <td>9.389230e+06</td>\n",
       "    </tr>\n",
       "    <tr>\n",
       "      <th>2</th>\n",
       "      <td>79075</td>\n",
       "      <td>2016</td>\n",
       "      <td>6</td>\n",
       "      <td>1</td>\n",
       "      <td>Argentina</td>\n",
       "      <td>1.812621e+07</td>\n",
       "    </tr>\n",
       "    <tr>\n",
       "      <th>3</th>\n",
       "      <td>79076</td>\n",
       "      <td>2016</td>\n",
       "      <td>7</td>\n",
       "      <td>1</td>\n",
       "      <td>Argentina</td>\n",
       "      <td>-1.813923e+06</td>\n",
       "    </tr>\n",
       "    <tr>\n",
       "      <th>4</th>\n",
       "      <td>79077</td>\n",
       "      <td>2016</td>\n",
       "      <td>8</td>\n",
       "      <td>1</td>\n",
       "      <td>Argentina</td>\n",
       "      <td>-1.796781e+07</td>\n",
       "    </tr>\n",
       "  </tbody>\n",
       "</table>\n",
       "</div>"
      ],
      "text/plain": [
       "    S_No  Year  Month  Product_ID    Country         Sales\n",
       "0  79073  2016      4           1  Argentina  1.791594e+06\n",
       "1  79074  2016      5           1  Argentina  9.389230e+06\n",
       "2  79075  2016      6           1  Argentina  1.812621e+07\n",
       "3  79076  2016      7           1  Argentina -1.813923e+06\n",
       "4  79077  2016      8           1  Argentina -1.796781e+07"
      ]
     },
     "execution_count": 376,
     "metadata": {},
     "output_type": "execute_result"
    }
   ],
   "source": [
    "duplicate_test_data.head()"
   ]
  },
  {
   "cell_type": "code",
   "execution_count": 377,
   "metadata": {},
   "outputs": [],
   "source": [
    "duplicate_test_data.to_csv('yds_submission2018.csv', index=False)"
   ]
  },
  {
   "cell_type": "code",
   "execution_count": null,
   "metadata": {},
   "outputs": [],
   "source": []
  }
 ],
 "metadata": {
  "kernelspec": {
   "display_name": "Python 3",
   "language": "python",
   "name": "python3"
  },
  "language_info": {
   "codemirror_mode": {
    "name": "ipython",
    "version": 3
   },
   "file_extension": ".py",
   "mimetype": "text/x-python",
   "name": "python",
   "nbconvert_exporter": "python",
   "pygments_lexer": "ipython3",
   "version": "3.5.2"
  }
 },
 "nbformat": 4,
 "nbformat_minor": 2
}
